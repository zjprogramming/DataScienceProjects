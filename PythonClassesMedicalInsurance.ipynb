{
 "cells": [
  {
   "cell_type": "markdown",
   "metadata": {},
   "source": [
    "# Python Classes: Medical Insurance Project"
   ]
  },
  {
   "cell_type": "markdown",
   "metadata": {},
   "source": [
    "You have been asked to develop a system that makes it easier to organize patient data. You will create a `class` that does the following:\n",
    "- Takes in patient parameters regarding their personal information\n",
    "- Contains methods that allow users to update their information\n",
    "- Gives patients insight into their potential medical fees.\n",
    "\n",
    "Let's get started!"
   ]
  },
  {
   "cell_type": "markdown",
   "metadata": {},
   "source": [
    "## Building our Constructor"
   ]
  },
  {
   "cell_type": "markdown",
   "metadata": {},
   "source": [
    "1. If you look at the code block below, you will see that we have started a `class` called `Patient`. It currently has an `__init__` method with two class variables: `self.name` and `self.age`.\n",
    "\n",
    "   Let's start by adding in some more patient parameters:\n",
    "   - `sex`: patient's biological identification, 0 for male and 1 for female\n",
    "   - `bmi`: patient BMI\n",
    "   - `num_of_children`: number of children patient has\n",
    "   - `smoker`: patient smoking status, 0 for a non-smoker and 1 for a smoker\n",
    "   \n",
    "   Add these into the `__init__` method so that we can use them as we create our class methods."
   ]
  },
  {
   "cell_type": "code",
   "execution_count": null,
   "metadata": {},
   "outputs": [],
   "source": [
    "class Patient:\n",
    "    def __init__(self, name, age, sex, bmi, num_of_children, smoker):\n",
    "        self.name = name\n",
    "        self.age = age\n",
    "        self.sex = sex\n",
    "        self.bmi = bmi\n",
    "        self.num_of_children = num_of_children\n",
    "        self.smoker = smoker"
   ]
  },
  {
   "cell_type": "markdown",
   "metadata": {},
   "source": [
    "2. Let's test out our `__init__` method and create our first instance variable.\n",
    "\n",
    "   Create an instance variable outside of our class called `patient1`.\n",
    "   ```py\n",
    "   patient1 = Patient(\"John Doe\", 25, 1, 22.2, 0, 0)\n",
    "   ```\n",
    "   \n",
    "   Next, print out the name of `patient1` using the following line of code:\n",
    "   ```py\n",
    "   print(patient1.name)\n",
    "   ```\n",
    "   \n",
    "   Print out the rest of `patient1`'s information to ensure the `__init__` method is functioning properly."
   ]
  },
  {
   "cell_type": "code",
   "execution_count": null,
   "metadata": {},
   "outputs": [],
   "source": [
    "patient1 = Patient(\"John Doe\", 25, 1, 22.2, 0, 0)\n",
    "print(patient1.name)"
   ]
  },
  {
   "cell_type": "markdown",
   "metadata": {},
   "source": [
    "## Adding Functionality with Methods"
   ]
  },
  {
   "cell_type": "markdown",
   "metadata": {},
   "source": [
    "3. Now that our constructor is built out and ready to go, let's start creating some methods! Our first method will be `estimated_insurance_cost()`, which takes our instance's parameters (representing our patient's information) and returns their expected yearly medical fees.\n",
    "\n",
    "   Below the `__init__` constructor, define our `estimated_insurance_cost()` constructor which only takes `self` as an argument. Inside of this method, add the following formula:\n",
    "   \n",
    "   $$\n",
    "   estimated\\_cost = 250*age - 128*sex + 370*bmi + 425*num\\_of\\_children + 24000*smoker - 12500\n",
    "   $$\n",
    "   \n",
    "   Note that we are using class variables in our formula here, so be sure to remember to use the `self` keyword."
   ]
  },
  {
   "cell_type": "code",
   "execution_count": null,
   "metadata": {},
   "outputs": [],
   "source": [
    "class Patient:\n",
    "    def __init__(self, name, age, sex, bmi, num_of_children, smoker):\n",
    "        self.name = name\n",
    "        self.age = age\n",
    "        self.sex = sex\n",
    "        self.bmi = bmi\n",
    "        self.num_of_children = num_of_children\n",
    "        self.smoker = smoker\n",
    "    \n",
    "    def estimated_insurance_cost(self):\n",
    "        estimated_cost = 250 * self.age - 128 * self.sex + 370 * self.bmi + 425 * self.num_of_children + 24000 * self.smoker - 12500"
   ]
  },
  {
   "cell_type": "markdown",
   "metadata": {},
   "source": [
    "4. Inside of our `estimated_insurance_cost()` method, let's add a print statement that displays the following:\n",
    "\n",
    "   ```\n",
    "   {Patient Name}'s estimated insurance costs is {estimated cost} dollars.\n",
    "   ```\n",
    "   \n",
    "   Then, test out this method using the `patient1` instance variable."
   ]
  },
  {
   "cell_type": "code",
   "execution_count": null,
   "metadata": {},
   "outputs": [],
   "source": [
    "class Patient:\n",
    "    def __init__(self, name, age, sex, bmi, num_of_children, smoker):\n",
    "        self.name = name\n",
    "        self.age = age\n",
    "        self.sex = sex\n",
    "        self.bmi = bmi\n",
    "        self.num_of_children = num_of_children\n",
    "        self.smoker = smoker\n",
    "    \n",
    "    def estimated_insurance_cost(self):\n",
    "        estimated_cost = 250*self.age - 128 * self.sex + 370 * self.bmi + 425 * self.num_of_children + 24000 * self.smoker - 12500\n",
    "        print(self.name + \"'s estimated insurance cost is \" + str(estimated_cost) + \" dollars.\")\n",
    "\n",
    "patient1 = Patient(\"John Doe\", 25, 1, 22.2, 0, 0)\n",
    "patient1.estimated_insurance_cost()"
   ]
  },
  {
   "cell_type": "markdown",
   "metadata": {},
   "source": [
    "5. We already have one super useful method in our class! Let's add some more and make our `Patient` class even more powerful.\n",
    "\n",
    "   What if our patient recently had a birthday? Or had a fluctuation in weight? Or had a kid? Let's add some methods that allow us to update these parameters and recalculate the estimated medical fees in one swing.\n",
    "   \n",
    "   First, create an `update_age()` method. It should take in two arguments: `self` and `new_age`. In this method reassign `self.age` to `new_age`."
   ]
  },
  {
   "cell_type": "code",
   "execution_count": null,
   "metadata": {},
   "outputs": [],
   "source": [
    "class Patient:\n",
    "    def __init__(self, name, age, sex, bmi, num_of_children, smoker):\n",
    "        self.name = name\n",
    "        self.age = age\n",
    "        self.sex = sex\n",
    "        self.bmi = bmi\n",
    "        self.num_of_children = num_of_children\n",
    "        self.smoker = smoker\n",
    "    \n",
    "    def estimated_insurance_cost(self):\n",
    "        estimated_cost = 250*self.age - 128 * self.sex + 370 * self.bmi + 425 * self.num_of_children + 24000 * self.smoker - 12500\n",
    "        print(self.name + \"'s estimated insurance cost is \" + str(estimated_cost) + \" dollars.\")\n",
    "    \n",
    "    def update_age(self, new_age):\n",
    "        self.age = new_age"
   ]
  },
  {
   "cell_type": "markdown",
   "metadata": {},
   "source": [
    "6. Let's flesh out this method some more!\n",
    "\n",
    "   Add a print statement that outputs the following statement:\n",
    "   ```\n",
    "   {Patient Name} is now {Patient Age} years old.\n",
    "   ```\n",
    "   \n",
    "   Test out your method using the `patient1` instance variable."
   ]
  },
  {
   "cell_type": "code",
   "execution_count": null,
   "metadata": {},
   "outputs": [],
   "source": [
    "class Patient:\n",
    "    def __init__(self, name, age, sex, bmi, num_of_children, smoker):\n",
    "        self.name = name\n",
    "        self.age = age\n",
    "        self.sex = sex\n",
    "        self.bmi = bmi\n",
    "        self.num_of_children = num_of_children\n",
    "        self.smoker = smoker\n",
    "    \n",
    "    def estimated_insurance_cost(self):\n",
    "        estimated_cost = 250 * self.age - 128 * self.sex + 370 * self.bmi + 425 * self.num_of_children + 24000 * self.smoker - 12500\n",
    "        print(self.name + \"'s estimated insurance cost is \" + str(estimated_cost) + \" dollars.\")\n",
    "    \n",
    "    def update_age(self, new_age):\n",
    "        self.age = new_age\n",
    "        print(self.name + \" is now \" + str(self.age) + \" years old.\")\n",
    "\n",
    "patient1 = Patient(\"John Doe\", 25, 1, 22.2, 0, 0)\n",
    "patient1.update_age(26)"
   ]
  },
  {
   "cell_type": "markdown",
   "metadata": {},
   "source": [
    "7. We also want to see what the new insurance expenses are. Call the `estimated_insurance_cost()` method in `update_age()` using this line of code:\n",
    "\n",
    "   ```py\n",
    "   self.estimated_insurance_cost()\n",
    "   ```\n",
    "   \n",
    "   Test out your method with `patient1`."
   ]
  },
  {
   "cell_type": "code",
   "execution_count": null,
   "metadata": {},
   "outputs": [],
   "source": [
    "class Patient:\n",
    "    def __init__(self, name, age, sex, bmi, num_of_children, smoker):\n",
    "        self.name = name\n",
    "        self.age = age\n",
    "        self.sex = sex\n",
    "        self.bmi = bmi\n",
    "        self.num_of_children = num_of_children\n",
    "        self.smoker = smoker\n",
    "    \n",
    "    def estimated_insurance_cost(self):\n",
    "        estimated_cost = 250*self.age - 128 * self.sex + 370 * self.bmi + 425 * self.num_of_children + 24000 * self.smoker - 12500\n",
    "        print(self.name + \"'s estimated insurance cost is \" + str(estimated_cost) + \" dollars.\")\n",
    "    \n",
    "    def update_age(self, new_age):\n",
    "        self.age = new_age\n",
    "        print(self.name + \" is now \" + str(self.age) + \" years old.\")\n",
    "        self.estimated_insurance_cost()\n",
    "\n",
    "patient1 = Patient(\"John Doe\", 25, 1, 22.2, 0, 0)\n",
    "patient1.update_age(26)"
   ]
  },
  {
   "cell_type": "markdown",
   "metadata": {},
   "source": [
    "8. Let's make another update method that modifies the `num_of_children` parameter.\n",
    "\n",
    "   Below the `update_age()` method, define a new one called `update_num_children()`. This method should have two arguments, `self` and `new_num_children`. Inside the method, `self.num_of_children` should be set equal to `new_num_children`."
   ]
  },
  {
   "cell_type": "code",
   "execution_count": null,
   "metadata": {},
   "outputs": [],
   "source": [
    "class Patient:\n",
    "    def __init__(self, name, age, sex, bmi, num_of_children, smoker):\n",
    "        self.name = name\n",
    "        self.age = age\n",
    "        self.sex = sex\n",
    "        self.bmi = bmi\n",
    "        self.num_of_children = num_of_children\n",
    "        self.smoker = smoker\n",
    "    \n",
    "    def estimated_insurance_cost(self):\n",
    "        estimated_cost = 250*self.age - 128 * self.sex + 370 * self.bmi + 425 * self.num_of_children + 24000 * self.smoker - 12500\n",
    "        print(self.name + \"'s estimated insurance cost is \" + str(estimated_cost) + \" dollars.\")\n",
    "    \n",
    "    def update_age(self, new_age):\n",
    "        self.age = new_age\n",
    "        print(self.name + \" is now \" + str(self.age) + \" years old.\")\n",
    "        self.estimated_insurance_cost()\n",
    "    \n",
    "    def update_num_of_children(self, new_num_children):\n",
    "        self.num_of_children = new_num_children"
   ]
  },
  {
   "cell_type": "markdown",
   "metadata": {},
   "source": [
    "9. Similarly to the method we wrote before, let's add in a print statement that clarifies the information that is being updated.\n",
    "\n",
    "   Your print statement should output the following:\n",
    "   ```\n",
    "   {Patient Name} has {Patient's Number of Children} children.\n",
    "   ```\n",
    "   \n",
    "   Use the `patient1` instance variable to test out this method. Set the `new_num_children` argument to `1`. Do you notice anything strange in the output?"
   ]
  },
  {
   "cell_type": "code",
   "execution_count": null,
   "metadata": {},
   "outputs": [],
   "source": [
    "class Patient:\n",
    "    def __init__(self, name, age, sex, bmi, num_of_children, smoker):\n",
    "        self.name = name\n",
    "        self.age = age\n",
    "        self.sex = sex\n",
    "        self.bmi = bmi\n",
    "        self.num_of_children = num_of_children\n",
    "        self.smoker = smoker\n",
    "    \n",
    "    def estimated_insurance_cost(self):\n",
    "        estimated_cost = 250*self.age - 128 * self.sex + 370 * self.bmi + 425 * self.num_of_children + 24000 * self.smoker - 12500\n",
    "        print(self.name + \"'s estimated insurance cost is \" + str(estimated_cost) + \" dollars.\")\n",
    "    \n",
    "    def update_age(self, new_age):\n",
    "        self.age = new_age\n",
    "        print(self.name + \" is now \" + str(self.age) + \" years old.\")\n",
    "        self.estimated_insurance_cost()\n",
    "    \n",
    "    def update_num_of_children(self, new_num_children):\n",
    "        self.num_of_children = new_num_children\n",
    "        print(self.name + \" has \" + str(self.num_of_children) + \" children.\")\n",
    "\n",
    "patient1 = Patient(\"John Doe\", 25, 1, 22.2, 0, 0)\n",
    "patient1.update_age(26)\n",
    "patient1.update_num_of_children(1)"
   ]
  },
  {
   "cell_type": "markdown",
   "metadata": {},
   "source": [
    "10. You may have noticed our output is grammatically incorrect because John Doe only has `1` child. Let's update our method to accurately convey when we should use the noun \"children\" versus when we should use \"child\".\n",
    "\n",
    "    To do this we can use control flow.\n",
    "    \n",
    "    If the patient has `1` offspring, we should see the following output:\n",
    "    ```\n",
    "    {Patient Name} has {Patient Number of Children} child.\n",
    "    ```\n",
    "    \n",
    "    Otherwise, we should see this output:\n",
    "    ```\n",
    "    {Patient Name} has {Patient Number of Children} children.\n",
    "    ```\n",
    "    \n",
    "    Write out your control flow program, and test it out using `patient1`."
   ]
  },
  {
   "cell_type": "code",
   "execution_count": null,
   "metadata": {},
   "outputs": [],
   "source": [
    "class Patient:\n",
    "    def __init__(self, name, age, sex, bmi, num_of_children, smoker):\n",
    "        self.name = name\n",
    "        self.age = age\n",
    "        self.sex = sex\n",
    "        self.bmi = bmi\n",
    "        self.num_of_children = num_of_children\n",
    "        self.smoker = smoker\n",
    "    \n",
    "    def estimated_insurance_cost(self):\n",
    "        estimated_cost = 250*self.age - 128 * self.sex + 370 * self.bmi + 425 * self.num_of_children + 24000 * self.smoker - 12500\n",
    "        print(self.name + \"'s estimated insurance cost is \" + str(estimated_cost) + \" dollars.\")\n",
    "    \n",
    "    def update_age(self, new_age):\n",
    "        self.age = new_age\n",
    "        print(self.name + \" is now \" + str(self.age) + \" years old.\")\n",
    "        self.estimated_insurance_cost()\n",
    "    \n",
    "    def update_num_of_children(self, new_num_children):\n",
    "        self.num_of_children = new_num_children\n",
    "        if self.num_of_children == 1:\n",
    "            print(self.name + \" has \" + str(self.num_of_children) + \" child.\")\n",
    "        else:\n",
    "            print(self.name + \" has \" + str(self.num_of_children) + \" children.\")\n",
    "\n",
    "patient1 = Patient(\"John Doe\", 25, 1, 22.2, 0, 0)\n",
    "patient1.update_age(26)\n",
    "patient1.update_num_of_children(1)"
   ]
  },
  {
   "cell_type": "markdown",
   "metadata": {},
   "source": [
    "11. To finish off the `update_num_children()` method, let's call our `estimated_insurance_cost()` method at the end.\n",
    "\n",
    "    Use `patient1` to ensure that everything is functioning as expected!"
   ]
  },
  {
   "cell_type": "code",
   "execution_count": null,
   "metadata": {},
   "outputs": [],
   "source": [
    "class Patient:\n",
    "    def __init__(self, name, age, sex, bmi, num_of_children, smoker):\n",
    "        self.name = name\n",
    "        self.age = age\n",
    "        self.sex = sex\n",
    "        self.bmi = bmi\n",
    "        self.num_of_children = num_of_children\n",
    "        self.smoker = smoker\n",
    "    \n",
    "    def estimated_insurance_cost(self):\n",
    "        estimated_cost = 250*self.age - 128 * self.sex + 370 * self.bmi + 425 * self.num_of_children + 24000 * self.smoker - 12500\n",
    "        print(self.name + \"'s estimated insurance cost is \" + str(estimated_cost) + \" dollars.\")\n",
    "    \n",
    "    def update_age(self, new_age):\n",
    "        self.age = new_age\n",
    "        print(self.name + \" is now \" + str(self.age) + \" years old.\")\n",
    "        self.estimated_insurance_cost()\n",
    "    \n",
    "    def update_num_of_children(self, new_num_children):\n",
    "        self.num_of_children = new_num_children\n",
    "        if self.num_of_children == 1:\n",
    "            print(self.name + \" has \" + str(self.num_of_children) + \" child.\")\n",
    "        else:\n",
    "            print(self.name + \" has \" + str(self.num_of_children) + \" children.\")\n",
    "        self.estimated_insurance_cost()\n",
    "\n",
    "patient1 = Patient(\"John Doe\", 25, 1, 22.2, 0, 0)\n",
    "patient1.update_age(26)\n",
    "patient1.update_num_of_children(1)"
   ]
  },
  {
   "cell_type": "markdown",
   "metadata": {},
   "source": [
    "## Storing Patient Information"
   ]
  },
  {
   "cell_type": "markdown",
   "metadata": {},
   "source": [
    "12. Let's create one last method that uses a dictionary to store a patient's information in one convenient variable. We can use our parameters as the keys and their specific data as the values.\n",
    "\n",
    "    Define a method called `patient_profile()` that builds a dictionary called `patient_information` to hold all of our patient's information."
   ]
  },
  {
   "cell_type": "code",
   "execution_count": null,
   "metadata": {},
   "outputs": [],
   "source": [
    "class Patient:\n",
    "    def __init__(self, name, age, sex, bmi, num_of_children, smoker):\n",
    "        self.name = name\n",
    "        self.age = age\n",
    "        self.sex = sex\n",
    "        self.bmi = bmi\n",
    "        self.num_of_children = num_of_children\n",
    "        self.smoker = smoker\n",
    "    \n",
    "    def estimated_insurance_cost(self):\n",
    "        estimated_cost = 250*self.age - 128 * self.sex + 370 * self.bmi + 425 * self.num_of_children + 24000 * self.smoker - 12500\n",
    "        print(self.name + \"'s estimated insurance cost is \" + str(estimated_cost) + \" dollars.\")\n",
    "    \n",
    "    def update_age(self, new_age):\n",
    "        self.age = new_age\n",
    "        print(self.name + \" is now \" + str(self.age) + \" years old.\")\n",
    "        self.estimated_insurance_cost()\n",
    "    \n",
    "    def update_num_of_children(self, new_num_children):\n",
    "        self.num_of_children = new_num_children\n",
    "        if self.num_of_children == 1:\n",
    "            print(self.name + \" has \" + str(self.num_of_children) + \" child.\")\n",
    "        else:\n",
    "            print(self.name + \" has \" + str(self.num_of_children) + \" children.\")\n",
    "        self.estimated_insurance_cost()\n",
    "        \n",
    "    def patient_profile(self):\n",
    "        patient_information = {}\n",
    "        \n",
    "        patient_information[\"Name\"] = self.name\n",
    "        patient_information[\"Age\"] = self.age\n",
    "        patient_information[\"Sex\"] = self.sex\n",
    "        patient_information[\"BMI\"] = self.bmi\n",
    "        patient_information[\"Number of Children\"] = self.num_of_children\n",
    "        patient_information[\"Smoker\"] = self.smoker\n",
    "        \n",
    "        return patient_information"
   ]
  },
  {
   "cell_type": "markdown",
   "metadata": {},
   "source": [
    "13. Let's test out our final method! Use `patient1` to call the method `patient_profile()`.\n",
    "\n",
    "    Remember that in `patient_profile()` we used a return statement rather than a print statement. In order to see our dictionary outputted, we must wrap a print statement around our method call."
   ]
  },
  {
   "cell_type": "code",
   "execution_count": null,
   "metadata": {},
   "outputs": [],
   "source": [
    "class Patient:\n",
    "    def __init__(self, name, age, sex, bmi, num_of_children, smoker):\n",
    "        self.name = name\n",
    "        self.age = age\n",
    "        self.sex = sex\n",
    "        self.bmi = bmi\n",
    "        self.num_of_children = num_of_children\n",
    "        self.smoker = smoker\n",
    "    \n",
    "    def estimated_insurance_cost(self):\n",
    "        estimated_cost = 250*self.age - 128 * self.sex + 370 * self.bmi + 425 * self.num_of_children + 24000 * self.smoker - 12500\n",
    "        print(self.name + \"'s estimated insurance cost is \" + str(estimated_cost) + \" dollars.\")\n",
    "    \n",
    "    def update_age(self, new_age):\n",
    "        self.age = new_age\n",
    "        print(self.name + \" is now \" + str(self.age) + \" years old.\")\n",
    "        self.estimated_insurance_cost()\n",
    "    \n",
    "    def update_num_of_children(self, new_num_children):\n",
    "        self.num_of_children = new_num_children\n",
    "        if self.num_of_children == 1:\n",
    "            print(self.name + \" has \" + str(self.num_of_children) + \" child.\")\n",
    "        else:\n",
    "            print(self.name + \" has \" + str(self.num_of_children) + \" children.\")\n",
    "        self.estimated_insurance_cost()\n",
    "        \n",
    "    def patient_profile(self):\n",
    "        patient_information = {}\n",
    "        \n",
    "        patient_information[\"Name\"] = self.name\n",
    "        patient_information[\"Age\"] = self.age\n",
    "        patient_information[\"Sex\"] = self.sex\n",
    "        patient_information[\"BMI\"] = self.bmi\n",
    "        patient_information[\"Number of Children\"] = self.num_of_children\n",
    "        patient_information[\"Smoker\"] = self.smoker\n",
    "        \n",
    "        return patient_information\n",
    "    \n",
    "patient1 = Patient(\"John Doe\", 25, 1, 22.2, 0, 0)\n",
    "patient1.update_age(26)\n",
    "patient1.update_num_of_children(1)\n",
    "print(patient1.patient_profile())"
   ]
  },
  {
   "cell_type": "markdown",
   "metadata": {},
   "source": [
    "## Extensions"
   ]
  },
  {
   "cell_type": "markdown",
   "metadata": {},
   "source": [
    "14. Congratulations! You have successfully made a powerful `Patient` class! Classes are an incredibly useful programming tool because they allow you to create a blueprint that can be used to build many objects off of. In this case, you can organize any patient's information and apply all methods of `Patient` to update and arrange their data.\n",
    "\n",
    "    There are endless possibilities for extending the capabilities of this class. If you would like to continue to work on this `Patient` class, take a look at the following challenges:\n",
    "    - Build out more methods that allow users to update more patient parameters, such as `update_bmi()` or `update_smoking_status()`.\n",
    "    - Use `try` and `except` statements to ensure that patient data is uploaded using numerical values.\n",
    "    - Update the class so that users can upload lists of patient data rather than just individual numbers.\n",
    "    \n",
    "    Happy coding!"
   ]
  },
  {
   "cell_type": "code",
   "execution_count": null,
   "metadata": {},
   "outputs": [],
   "source": []
  },
  {
   "cell_type": "code",
   "execution_count": null,
   "metadata": {},
   "outputs": [],
   "source": []
  }
 ],
 "metadata": {
  "kernelspec": {
   "display_name": "Python 3",
   "language": "python",
   "name": "python3"
  },
  "language_info": {
   "codemirror_mode": {
    "name": "ipython",
    "version": 3
   },
   "file_extension": ".py",
   "mimetype": "text/x-python",
   "name": "python",
   "nbconvert_exporter": "python",
   "pygments_lexer": "ipython3",
   "version": "3.8.5"
  }
 },
 "nbformat": 4,
 "nbformat_minor": 5
}
